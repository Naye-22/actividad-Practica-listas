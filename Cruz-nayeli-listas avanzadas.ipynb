{
 "cells": [
  {
   "cell_type": "markdown",
   "id": "0660f254-3ef7-42b2-b5ae-1da6dba132d3",
   "metadata": {},
   "source": [
    "# 1. Lugares del Mundo por Visitar"
   ]
  },
  {
   "cell_type": "code",
   "execution_count": 1,
   "id": "21b4ec23-d5dc-4f60-98b4-f8feb83f1a88",
   "metadata": {},
   "outputs": [],
   "source": [
    "lugares = [\"Holanda\", \"Corea del Sur\", \"Noruega\", \"Egipto\", \"Francia\"]"
   ]
  },
  {
   "cell_type": "code",
   "execution_count": 2,
   "id": "a8f5dc5f-3837-4050-abdb-d5858271645b",
   "metadata": {},
   "outputs": [
    {
     "name": "stdout",
     "output_type": "stream",
     "text": [
      "Lista original:\n",
      "['Holanda', 'Corea del Sur', 'Noruega', 'Egipto', 'Francia']\n"
     ]
    }
   ],
   "source": [
    "print(\"Lista original:\")\n",
    "print(lugares)"
   ]
  },
  {
   "cell_type": "markdown",
   "id": "c16c41e8-fadc-4627-9acb-558ee36cf23a",
   "metadata": {},
   "source": [
    "# lista ordenada alfaveticamente "
   ]
  },
  {
   "cell_type": "code",
   "execution_count": 6,
   "id": "baf65a11-3048-4a7b-a9b8-3ececd482e0a",
   "metadata": {},
   "outputs": [
    {
     "name": "stdout",
     "output_type": "stream",
     "text": [
      "Lista ordenada alfabéticamente (sin modificar la original):\n",
      "['Corea del Sur', 'Egipto', 'Francia', 'Holanda', 'Noruega']\n"
     ]
    }
   ],
   "source": [
    "print(f\"Lista ordenada alfabéticamente (sin modificar la original):\")\n",
    "print(sorted(lugares))"
   ]
  },
  {
   "cell_type": "code",
   "execution_count": 7,
   "id": "bf5a7642-74cc-4f99-a779-baec2da04908",
   "metadata": {},
   "outputs": [
    {
     "name": "stdout",
     "output_type": "stream",
     "text": [
      "['Holanda', 'Corea del Sur', 'Noruega', 'Egipto', 'Francia']\n"
     ]
    }
   ],
   "source": [
    "print(lugares)"
   ]
  },
  {
   "cell_type": "markdown",
   "id": "d7faafda-a315-4fa9-919f-7099f711a991",
   "metadata": {},
   "source": [
    "# lista reversa"
   ]
  },
  {
   "cell_type": "code",
   "execution_count": 8,
   "id": "40bd9dbc-b741-4bc9-82dd-17295f1aef18",
   "metadata": {},
   "outputs": [
    {
     "name": "stdout",
     "output_type": "stream",
     "text": [
      "['Noruega', 'Holanda', 'Francia', 'Egipto', 'Corea del Sur']\n"
     ]
    }
   ],
   "source": [
    "print(sorted(lugares, reverse=True))"
   ]
  },
  {
   "cell_type": "code",
   "execution_count": 9,
   "id": "7fd74b8f-ea48-44c1-8c0e-e2ecfc10af38",
   "metadata": {},
   "outputs": [
    {
     "name": "stdout",
     "output_type": "stream",
     "text": [
      "['Holanda', 'Corea del Sur', 'Noruega', 'Egipto', 'Francia']\n"
     ]
    }
   ],
   "source": [
    "print(lugares)"
   ]
  },
  {
   "cell_type": "markdown",
   "id": "67fc99f2-82d6-4374-9039-cc314a27c0f7",
   "metadata": {},
   "source": [
    "# lista en reversa"
   ]
  },
  {
   "cell_type": "code",
   "execution_count": 14,
   "id": "fc6eda01-518d-4c11-8665-0bd56a5ca6ef",
   "metadata": {},
   "outputs": [],
   "source": [
    "lugares.reverse()"
   ]
  },
  {
   "cell_type": "code",
   "execution_count": 15,
   "id": "b50a3ce8-5765-43bc-a35e-518cbf912637",
   "metadata": {},
   "outputs": [
    {
     "name": "stdout",
     "output_type": "stream",
     "text": [
      "['Francia', 'Egipto', 'Noruega', 'Corea del Sur', 'Holanda']\n"
     ]
    }
   ],
   "source": [
    "print(lugares)"
   ]
  },
  {
   "cell_type": "code",
   "execution_count": 16,
   "id": "46c958b4-2133-4441-bb8a-c7a9930b67cd",
   "metadata": {},
   "outputs": [],
   "source": [
    "lugares.reverse()"
   ]
  },
  {
   "cell_type": "code",
   "execution_count": 17,
   "id": "a60743ce-ef3c-40fc-877f-b98e23fc513b",
   "metadata": {},
   "outputs": [
    {
     "name": "stdout",
     "output_type": "stream",
     "text": [
      "['Holanda', 'Corea del Sur', 'Noruega', 'Egipto', 'Francia']\n"
     ]
    }
   ],
   "source": [
    "print(lugares)"
   ]
  },
  {
   "cell_type": "markdown",
   "id": "346f495d-e4b2-4883-9f93-8db5e0e20dfb",
   "metadata": {},
   "source": [
    "# Uso de sort()"
   ]
  },
  {
   "cell_type": "code",
   "execution_count": 18,
   "id": "b5ced5d5-d8ff-45e3-a648-75275d0fba3c",
   "metadata": {},
   "outputs": [],
   "source": [
    "lugares.sort()"
   ]
  },
  {
   "cell_type": "code",
   "execution_count": 19,
   "id": "078f88f6-7554-438a-9796-9e712bda2247",
   "metadata": {},
   "outputs": [
    {
     "name": "stdout",
     "output_type": "stream",
     "text": [
      "['Corea del Sur', 'Egipto', 'Francia', 'Holanda', 'Noruega']\n"
     ]
    }
   ],
   "source": [
    "print(lugares)"
   ]
  },
  {
   "cell_type": "code",
   "execution_count": 20,
   "id": "ec0bc7f0-6330-43c7-83a6-2567d60af5af",
   "metadata": {},
   "outputs": [],
   "source": [
    "lugares.sort(reverse=True)"
   ]
  },
  {
   "cell_type": "code",
   "execution_count": 21,
   "id": "002fd41c-c3b2-4db2-8105-80a42de9ac80",
   "metadata": {},
   "outputs": [
    {
     "name": "stdout",
     "output_type": "stream",
     "text": [
      "['Noruega', 'Holanda', 'Francia', 'Egipto', 'Corea del Sur']\n"
     ]
    }
   ],
   "source": [
    "print(lugares)"
   ]
  },
  {
   "cell_type": "markdown",
   "id": "33929d70-04a6-495c-9e19-7b38eed4f953",
   "metadata": {},
   "source": [
    "# 2. Conteo de Invitados a Cenar\n",
    "## copie la linea de codigo de la lista anterior para hacer este ejercicio"
   ]
  },
  {
   "cell_type": "code",
   "execution_count": 22,
   "id": "075eca04-9244-40b1-860a-227fbf281acb",
   "metadata": {},
   "outputs": [],
   "source": [
    "invitado =['Ana', 'Maria', 'Nohelia', 'Julieta', 'Nicole']  "
   ]
  },
  {
   "cell_type": "code",
   "execution_count": 23,
   "id": "1cf980c2-21b0-4b08-904d-2893ebb463d4",
   "metadata": {},
   "outputs": [],
   "source": [
    "cantidad = len(invitado)"
   ]
  },
  {
   "cell_type": "code",
   "execution_count": 24,
   "id": "8fb96b33-1a15-472f-aecd-26fe97c8d830",
   "metadata": {},
   "outputs": [
    {
     "name": "stdout",
     "output_type": "stream",
     "text": [
      "La cantidad de invitados a la cena es de: 5.\n"
     ]
    }
   ],
   "source": [
    "print(f\"La cantidad de invitados a la cena es de: {cantidad}.\")"
   ]
  },
  {
   "cell_type": "markdown",
   "id": "e7e1d435-ad53-4cd1-b5d2-fab62a2f60bb",
   "metadata": {},
   "source": [
    "# 3. Práctica con Todas las Funciones de Listas"
   ]
  },
  {
   "cell_type": "code",
   "execution_count": 25,
   "id": "a56b9c5d-e4f2-4f74-8fde-0a2a07cea422",
   "metadata": {},
   "outputs": [],
   "source": [
    "idiomas = ['Inglés', 'Español', 'Francés', 'Japonés', 'Alemán']"
   ]
  },
  {
   "cell_type": "code",
   "execution_count": 26,
   "id": "b5df5ccc-c4a9-4ceb-a588-ab29f2c02d88",
   "metadata": {},
   "outputs": [
    {
     "name": "stdout",
     "output_type": "stream",
     "text": [
      "['Inglés', 'Español', 'Francés', 'Japonés', 'Alemán']\n"
     ]
    }
   ],
   "source": [
    "print(idiomas)"
   ]
  },
  {
   "cell_type": "markdown",
   "id": "a4bb21c5-d76f-47cc-a863-c21625e2b48b",
   "metadata": {},
   "source": [
    "## Uso de append "
   ]
  },
  {
   "cell_type": "code",
   "execution_count": 27,
   "id": "740eb376-3d59-4ae9-9b45-3176ed23f27c",
   "metadata": {},
   "outputs": [],
   "source": [
    "idiomas.append(\"Italiano\")"
   ]
  },
  {
   "cell_type": "code",
   "execution_count": 28,
   "id": "2cbeaba1-b02e-4e83-aafd-213ee3181ad6",
   "metadata": {},
   "outputs": [
    {
     "name": "stdout",
     "output_type": "stream",
     "text": [
      "['Inglés', 'Español', 'Francés', 'Japonés', 'Alemán', 'Italiano']\n"
     ]
    }
   ],
   "source": [
    "print(idiomas)"
   ]
  },
  {
   "cell_type": "markdown",
   "id": "905f5d85-7994-41ce-b547-00aa93d5cced",
   "metadata": {},
   "source": [
    "## Uso de insert "
   ]
  },
  {
   "cell_type": "code",
   "execution_count": 29,
   "id": "d31220fc-eccc-477f-8253-9027ee3de7cf",
   "metadata": {},
   "outputs": [],
   "source": [
    "idiomas.insert(2, \"Portugués\")"
   ]
  },
  {
   "cell_type": "code",
   "execution_count": 30,
   "id": "97a8769d-ae1b-4159-8b90-9fe957600edd",
   "metadata": {},
   "outputs": [
    {
     "name": "stdout",
     "output_type": "stream",
     "text": [
      "['Inglés', 'Español', 'Portugués', 'Francés', 'Japonés', 'Alemán', 'Italiano']\n"
     ]
    }
   ],
   "source": [
    "print(idiomas)"
   ]
  },
  {
   "cell_type": "markdown",
   "id": "5eeaff2f-4c62-4b36-bbc2-8decf18bb2b4",
   "metadata": {},
   "source": [
    "## Uso de del"
   ]
  },
  {
   "cell_type": "code",
   "execution_count": 31,
   "id": "721ca826-e9e1-4bb5-baa7-a4f725f85923",
   "metadata": {},
   "outputs": [],
   "source": [
    "del idiomas[0]"
   ]
  },
  {
   "cell_type": "code",
   "execution_count": 32,
   "id": "be4dea5a-f51b-4492-8eb8-0e24348e63d6",
   "metadata": {},
   "outputs": [
    {
     "name": "stdout",
     "output_type": "stream",
     "text": [
      "['Español', 'Portugués', 'Francés', 'Japonés', 'Alemán', 'Italiano']\n"
     ]
    }
   ],
   "source": [
    "print(idiomas)"
   ]
  },
  {
   "cell_type": "markdown",
   "id": "2f52f8b6-007e-4c6a-ac97-c8c482ab8998",
   "metadata": {},
   "source": [
    "## Uso de pop()"
   ]
  },
  {
   "cell_type": "code",
   "execution_count": 33,
   "id": "12db30c3-5a20-4f08-8e91-c26022f97d8a",
   "metadata": {},
   "outputs": [],
   "source": [
    "idioma_eliminado = idiomas.pop()"
   ]
  },
  {
   "cell_type": "code",
   "execution_count": 34,
   "id": "08ce22cc-7f0f-4bf6-876a-2e29be59fc76",
   "metadata": {},
   "outputs": [
    {
     "name": "stdout",
     "output_type": "stream",
     "text": [
      "['Español', 'Portugués', 'Francés', 'Japonés', 'Alemán']\n"
     ]
    }
   ],
   "source": [
    "print(idiomas)"
   ]
  },
  {
   "cell_type": "markdown",
   "id": "bea24580-7d93-42e5-835a-be0244d6488b",
   "metadata": {},
   "source": [
    "## Uso de remove()"
   ]
  },
  {
   "cell_type": "code",
   "execution_count": 35,
   "id": "409b96b6-ce36-46b9-a56b-04b149ea9b54",
   "metadata": {},
   "outputs": [],
   "source": [
    "idiomas.remove(\"Portugués\")"
   ]
  },
  {
   "cell_type": "code",
   "execution_count": 36,
   "id": "bfa0d11e-7014-4a5d-b4f6-0394f1afddc2",
   "metadata": {},
   "outputs": [
    {
     "name": "stdout",
     "output_type": "stream",
     "text": [
      "['Español', 'Francés', 'Japonés', 'Alemán']\n"
     ]
    }
   ],
   "source": [
    "print(idiomas)"
   ]
  },
  {
   "cell_type": "markdown",
   "id": "e7e670fc-fde6-48a8-9f3d-e4bd2ab5338c",
   "metadata": {},
   "source": [
    "## Uso de sorted()"
   ]
  },
  {
   "cell_type": "code",
   "execution_count": 37,
   "id": "6a0b0e9a-c622-4c54-825a-a73b6a64db1a",
   "metadata": {},
   "outputs": [
    {
     "name": "stdout",
     "output_type": "stream",
     "text": [
      "['Alemán', 'Español', 'Francés', 'Japonés']\n"
     ]
    }
   ],
   "source": [
    "print(sorted(idiomas))"
   ]
  },
  {
   "cell_type": "markdown",
   "id": "205c6054-dec1-48bf-9671-4e283e3438dc",
   "metadata": {},
   "source": [
    "## Uso de sort()"
   ]
  },
  {
   "cell_type": "code",
   "execution_count": 38,
   "id": "7cb14ae1-7e5c-4632-b4f3-ebbbdc9bc2cd",
   "metadata": {},
   "outputs": [],
   "source": [
    "idiomas.sort()"
   ]
  },
  {
   "cell_type": "code",
   "execution_count": 39,
   "id": "866ba53d-78ba-4841-aa61-11cb1b9cee92",
   "metadata": {},
   "outputs": [
    {
     "name": "stdout",
     "output_type": "stream",
     "text": [
      "['Alemán', 'Español', 'Francés', 'Japonés']\n"
     ]
    }
   ],
   "source": [
    "print(idiomas)"
   ]
  },
  {
   "cell_type": "markdown",
   "id": "4b3f6883-837d-4c29-bd25-e7c9693e1b31",
   "metadata": {},
   "source": [
    "## Uso de reverse()"
   ]
  },
  {
   "cell_type": "code",
   "execution_count": 40,
   "id": "717da893-35c8-4fde-9f0b-1792a09c9bc3",
   "metadata": {},
   "outputs": [],
   "source": [
    "idiomas.reverse()"
   ]
  },
  {
   "cell_type": "code",
   "execution_count": 41,
   "id": "d084f4d3-fdce-4ad2-91e4-440e4cec8825",
   "metadata": {},
   "outputs": [
    {
     "name": "stdout",
     "output_type": "stream",
     "text": [
      "['Japonés', 'Francés', 'Español', 'Alemán']\n"
     ]
    }
   ],
   "source": [
    "print(idiomas)"
   ]
  },
  {
   "cell_type": "markdown",
   "id": "9550946d-13c3-475f-a667-0535d4178643",
   "metadata": {},
   "source": [
    "## Uso de len()"
   ]
  },
  {
   "cell_type": "code",
   "execution_count": 42,
   "id": "d70d2c43-41cd-48b6-acbf-c8e8c7ddd130",
   "metadata": {},
   "outputs": [
    {
     "name": "stdout",
     "output_type": "stream",
     "text": [
      "Cantidad total de idiomas en la lista: 4\n"
     ]
    }
   ],
   "source": [
    "print(f\"Cantidad total de idiomas en la lista: {len(idiomas)}\")"
   ]
  },
  {
   "cell_type": "code",
   "execution_count": null,
   "id": "32b9393c-5f5d-4362-837f-67a4f91dc9b3",
   "metadata": {},
   "outputs": [],
   "source": []
  }
 ],
 "metadata": {
  "kernelspec": {
   "display_name": "Python 3 (ipykernel)",
   "language": "python",
   "name": "python3"
  },
  "language_info": {
   "codemirror_mode": {
    "name": "ipython",
    "version": 3
   },
   "file_extension": ".py",
   "mimetype": "text/x-python",
   "name": "python",
   "nbconvert_exporter": "python",
   "pygments_lexer": "ipython3",
   "version": "3.13.1"
  }
 },
 "nbformat": 4,
 "nbformat_minor": 5
}
