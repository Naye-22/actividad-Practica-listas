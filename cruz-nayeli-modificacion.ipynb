{
 "cells": [
  {
   "cell_type": "markdown",
   "id": "97afd823-9886-44f6-8c23-a3bdc09f35c1",
   "metadata": {},
   "source": [
    "# Lista de invitados"
   ]
  },
  {
   "cell_type": "code",
   "execution_count": 95,
   "id": "905e5a1f-b0d1-4171-b6b9-2bf242d41d8c",
   "metadata": {},
   "outputs": [],
   "source": [
    "invitado =['Ana', 'Maria', 'Nohelia', 'Julieta', 'Nicole'] "
   ]
  },
  {
   "cell_type": "code",
   "execution_count": 96,
   "id": "510a1ab0-3e42-469e-813d-ecf10c450160",
   "metadata": {},
   "outputs": [
    {
     "name": "stdout",
     "output_type": "stream",
     "text": [
      "Ana\n",
      "Maria\n",
      "Nohelia\n",
      "Julieta\n",
      "Nicole\n"
     ]
    }
   ],
   "source": [
    "print(invitado[0])\n",
    "print(invitado[1])\n",
    "print(invitado[2])\n",
    "print(invitado[3])\n",
    "print(invitado[4])"
   ]
  },
  {
   "cell_type": "code",
   "execution_count": 97,
   "id": "ffeee735-b2f3-432a-9e1f-2892a7159a39",
   "metadata": {},
   "outputs": [
    {
     "name": "stdout",
     "output_type": "stream",
     "text": [
      "Hola Maria, me gustaría invitarte a cenar este fin de semana.\n",
      "Hola Julieta, me gustaría invitarte a cenar este fin de semana.\n",
      "Hola Nicole, me gustaría invitarte a cenar este fin de semana.\n",
      "Hola Ana, me gustaría invitarte a cenar este fin de semana.\n",
      "Hola Nohelia, me gustaría invitarte a cenar este fin de semana.\n"
     ]
    }
   ],
   "source": [
    "print(f\"Hola {invitado[1]}, me gustaría invitarte a cenar este fin de semana.\")\n",
    "print(f\"Hola {invitado[3]}, me gustaría invitarte a cenar este fin de semana.\")\n",
    "print(f\"Hola {invitado[4]}, me gustaría invitarte a cenar este fin de semana.\")\n",
    "print(f\"Hola {invitado[0]}, me gustaría invitarte a cenar este fin de semana.\")\n",
    "print(f\"Hola {invitado[2]}, me gustaría invitarte a cenar este fin de semana.\")"
   ]
  },
  {
   "cell_type": "markdown",
   "id": "1eb7499a-3b1f-44fb-a406-ac1e1bc535bc",
   "metadata": {},
   "source": [
    "# Modificar la lista"
   ]
  },
  {
   "cell_type": "code",
   "execution_count": 98,
   "id": "52b8dbf5-f53d-4fe6-84ba-0fa781b70fc7",
   "metadata": {},
   "outputs": [
    {
     "name": "stdout",
     "output_type": "stream",
     "text": [
      "hola Julieta no asistira a la cena\n"
     ]
    }
   ],
   "source": [
    "print(f\"hola {invitado[3]} no asistira a la cena\")"
   ]
  },
  {
   "cell_type": "code",
   "execution_count": 99,
   "id": "3dde498d-5e94-45d8-9a1d-199672674704",
   "metadata": {},
   "outputs": [
    {
     "name": "stdout",
     "output_type": "stream",
     "text": [
      "['Ana', 'Maria', 'Nohelia', 'Marta', 'Nicole']\n"
     ]
    }
   ],
   "source": [
    "invitado [3] = \"Marta\"\n",
    "print(invitado)"
   ]
  },
  {
   "cell_type": "code",
   "execution_count": 100,
   "id": "4aa15b51-60f7-41b6-8acb-15a0ee625fea",
   "metadata": {},
   "outputs": [
    {
     "name": "stdout",
     "output_type": "stream",
     "text": [
      "Hola Maria, me gustaría invitarte a cenar este fin de semana.\n",
      "Buenas tardes Marta, me gustaría invitarte a cenar este fin de semana.\n",
      "Hola Nicole, me gustaría invitarte a cenar este fin de semana.\n",
      "Hola Ana, me gustaría invitarte a cenar este fin de semana.\n",
      "Hola Nohelia, me gustaría invitarte a cenar este fin de semana.\n"
     ]
    }
   ],
   "source": [
    "print(f\"Hola {invitado[1]}, me gustaría invitarte a cenar este fin de semana.\")\n",
    "print(f\"Buenas tardes {invitado[3]}, me gustaría invitarte a cenar este fin de semana.\")\n",
    "print(f\"Hola {invitado[4]}, me gustaría invitarte a cenar este fin de semana.\")\n",
    "print(f\"Hola {invitado[0]}, me gustaría invitarte a cenar este fin de semana.\")\n",
    "print(f\"Hola {invitado[2]}, me gustaría invitarte a cenar este fin de semana.\")"
   ]
  },
  {
   "cell_type": "code",
   "execution_count": 101,
   "id": "eb24494d-49fe-4b22-94fc-e1db9bf1956d",
   "metadata": {},
   "outputs": [
    {
     "name": "stdout",
     "output_type": "stream",
     "text": [
      "Es un gusto informarles que hay una mesa disponible para ustedes\n"
     ]
    }
   ],
   "source": [
    "print(\"Es un gusto informarles que hay una mesa disponible para ustedes\")"
   ]
  },
  {
   "cell_type": "markdown",
   "id": "7c77db78-a1eb-48b1-9aee-b1e757f52236",
   "metadata": {},
   "source": [
    "# insertado en el inicio"
   ]
  },
  {
   "cell_type": "code",
   "execution_count": 102,
   "id": "025c2fec-c1f5-478a-85cc-ebd23eacfbe8",
   "metadata": {},
   "outputs": [
    {
     "name": "stdout",
     "output_type": "stream",
     "text": [
      "['Ana', 'Maria', 'Nohelia', 'Marta', 'Vanesa', 'Nicole']\n"
     ]
    }
   ],
   "source": [
    "invitado.insert(4,\"Vanesa\")\n",
    "print(invitado)"
   ]
  },
  {
   "cell_type": "code",
   "execution_count": 103,
   "id": "eabcf0a1-26d0-444f-9f5d-e018c7ac2e01",
   "metadata": {},
   "outputs": [
    {
     "name": "stdout",
     "output_type": "stream",
     "text": [
      "['Samantha', 'Ana', 'Maria', 'Nohelia', 'Marta', 'Vanesa', 'Nicole']\n"
     ]
    }
   ],
   "source": [
    "invitado.insert(0,\"Samantha\")\n",
    "print(invitado)"
   ]
  },
  {
   "cell_type": "code",
   "execution_count": 104,
   "id": "7e11086d-0b65-4f81-b0b2-20d255d31212",
   "metadata": {},
   "outputs": [
    {
     "name": "stdout",
     "output_type": "stream",
     "text": [
      "['Samantha', 'Ana', 'Maria', 'Nohelia', 'Marta', 'Vanesa', 'Nicole', 'Danna']\n"
     ]
    }
   ],
   "source": [
    "invitado.append(\"Danna\")\n",
    "print(invitado)"
   ]
  },
  {
   "cell_type": "code",
   "execution_count": 105,
   "id": "4e506dbc-91ac-4bf4-893b-05f4a15f7d1d",
   "metadata": {},
   "outputs": [
    {
     "name": "stdout",
     "output_type": "stream",
     "text": [
      "Hola Ana, me gustaría invitarte a cenar este fin de semana.\n",
      "Buenas tardes Nohelia, me gustaría invitarte a cenar este fin de semana.\n",
      "Hola Marta, me gustaría invitarte a cenar este fin de semana.\n",
      "Hola amiga Samantha, me gustaría invitarte a cenar este fin de semana.\n",
      "Hola Maria, me gustaría invitarte a cenar este fin de semana.\n",
      "Hola Tía Vanesa, me gustaría invitarte a cenar este fin de semana.\n",
      "Hola Prima Nicole, me gustaría invitarte a cenar este fin de semana.\n"
     ]
    }
   ],
   "source": [
    "print(f\"Hola {invitado[1]}, me gustaría invitarte a cenar este fin de semana.\")\n",
    "print(f\"Buenas tardes {invitado[3]}, me gustaría invitarte a cenar este fin de semana.\")\n",
    "print(f\"Hola {invitado[4]}, me gustaría invitarte a cenar este fin de semana.\")\n",
    "print(f\"Hola amiga {invitado[0]}, me gustaría invitarte a cenar este fin de semana.\")\n",
    "print(f\"Hola {invitado[2]}, me gustaría invitarte a cenar este fin de semana.\")\n",
    "print(f\"Hola Tía {invitado[5]}, me gustaría invitarte a cenar este fin de semana.\")\n",
    "print(f\"Hola Prima {invitado[6]}, me gustaría invitarte a cenar este fin de semana.\")"
   ]
  },
  {
   "cell_type": "code",
   "execution_count": 106,
   "id": "f9f80c65-166a-4ec6-a555-ba64caea08d8",
   "metadata": {},
   "outputs": [
    {
     "name": "stdout",
     "output_type": "stream",
     "text": [
      "solo puedes initar a dos personas\n"
     ]
    }
   ],
   "source": [
    "print(\"solo puedes initar a dos personas\")"
   ]
  },
  {
   "cell_type": "code",
   "execution_count": 107,
   "id": "4e97efc2-80d1-4393-aa43-4db5bd90d8e6",
   "metadata": {},
   "outputs": [],
   "source": [
    "invitado_eliminado = invitado.pop(0)"
   ]
  },
  {
   "cell_type": "code",
   "execution_count": 108,
   "id": "53dd7936-1d79-4d91-9d81-2c367cdaa748",
   "metadata": {},
   "outputs": [
    {
     "name": "stdout",
     "output_type": "stream",
     "text": [
      "Disculpame Samantha.\n"
     ]
    }
   ],
   "source": [
    "invitado_Mensaje = f\"Disculpame {invitado_eliminado}.\"\n",
    "print(invitado_Mensaje)"
   ]
  },
  {
   "cell_type": "code",
   "execution_count": 109,
   "id": "82bf7f9a-b8b9-41c3-ada1-d33ca9a3497a",
   "metadata": {},
   "outputs": [],
   "source": [
    "invitado_eliminado1 = invitado.pop(1)"
   ]
  },
  {
   "cell_type": "code",
   "execution_count": 110,
   "id": "76af89a1-1ba5-43a2-bacd-fceb80c86d7e",
   "metadata": {},
   "outputs": [
    {
     "name": "stdout",
     "output_type": "stream",
     "text": [
      "Disculpame amiga Maria.\n"
     ]
    }
   ],
   "source": [
    "invitado_Mensaje1 = f\"Disculpame amiga {invitado_eliminado1}.\"\n",
    "print(invitado_Mensaje1)"
   ]
  },
  {
   "cell_type": "code",
   "execution_count": 111,
   "id": "299745a6-02b9-41b3-b739-f85b7da87072",
   "metadata": {},
   "outputs": [],
   "source": [
    "invitado_eliminado2 = invitado.pop(2)"
   ]
  },
  {
   "cell_type": "code",
   "execution_count": 112,
   "id": "a7c751ac-21af-4c04-b8a5-676ae1f870ea",
   "metadata": {},
   "outputs": [
    {
     "name": "stdout",
     "output_type": "stream",
     "text": [
      "Disculpame amiga, se cancelo la cena Marta.\n"
     ]
    }
   ],
   "source": [
    "invitado_Mensaje2 = f\"Disculpame amiga, se cancelo la cena {invitado_eliminado2}.\"\n",
    "print(invitado_Mensaje2)"
   ]
  },
  {
   "cell_type": "code",
   "execution_count": 113,
   "id": "6bbd3702-0908-4c70-9067-fb1bb1f763b5",
   "metadata": {},
   "outputs": [],
   "source": [
    "invitado_eliminado3 = invitado.pop(3)"
   ]
  },
  {
   "cell_type": "code",
   "execution_count": 114,
   "id": "4b277a9c-3ef2-4c5a-aeca-671d74aae186",
   "metadata": {},
   "outputs": [
    {
     "name": "stdout",
     "output_type": "stream",
     "text": [
      "Disculpame amiga, se cancelo la cena Nicole.\n"
     ]
    }
   ],
   "source": [
    "invitado_Mensaje3 = f\"Disculpame amiga, se cancelo la cena {invitado_eliminado3}.\"\n",
    "print(invitado_Mensaje3)"
   ]
  },
  {
   "cell_type": "code",
   "execution_count": 119,
   "id": "b920f494-ce7b-4bb0-b4ee-2b78ec3b4512",
   "metadata": {},
   "outputs": [],
   "source": [
    "invitado_eliminado4 = invitado.pop(0)"
   ]
  },
  {
   "cell_type": "code",
   "execution_count": 120,
   "id": "bd670851-f29b-405f-95e1-79cfe6e1a10d",
   "metadata": {},
   "outputs": [
    {
     "name": "stdout",
     "output_type": "stream",
     "text": [
      "Disculpame amiga, se cancelo la cena Ana.\n"
     ]
    }
   ],
   "source": [
    "invitado_Mensaje4 = f\"Disculpame amiga, se cancelo la cena {invitado_eliminado4}.\"\n",
    "print(invitado_Mensaje4)"
   ]
  },
  {
   "cell_type": "code",
   "execution_count": 121,
   "id": "3695204f-73e0-4a20-a9bf-613712ee1e85",
   "metadata": {},
   "outputs": [
    {
     "name": "stdout",
     "output_type": "stream",
     "text": [
      "['Nohelia', 'Vanesa']\n"
     ]
    }
   ],
   "source": [
    "print(invitado)"
   ]
  },
  {
   "cell_type": "code",
   "execution_count": 122,
   "id": "991a2e09-8b77-4613-985f-ae702083b58e",
   "metadata": {},
   "outputs": [
    {
     "name": "stdout",
     "output_type": "stream",
     "text": [
      "Hola Nohelia, me gustaría invitarte a cenar este fin de semana.\n",
      "Buenas tardes Vanesa, me gustaría invitarte a cenar este fin de semana.\n"
     ]
    }
   ],
   "source": [
    "print(f\"Hola {invitado[0]}, me gustaría invitarte a cenar este fin de semana.\")\n",
    "print(f\"Buenas tardes {invitado[1]}, me gustaría invitarte a cenar este fin de semana.\")"
   ]
  },
  {
   "cell_type": "code",
   "execution_count": 123,
   "id": "6707cb45-8eff-432c-b067-57f726b948e8",
   "metadata": {},
   "outputs": [
    {
     "name": "stdout",
     "output_type": "stream",
     "text": [
      "['Vanesa']\n"
     ]
    }
   ],
   "source": [
    "del invitado[0]\n",
    "print(invitado)"
   ]
  },
  {
   "cell_type": "code",
   "execution_count": 124,
   "id": "bac10083-6061-43be-9e81-0e18a4fd97de",
   "metadata": {},
   "outputs": [
    {
     "name": "stdout",
     "output_type": "stream",
     "text": [
      "[]\n"
     ]
    }
   ],
   "source": [
    "del invitado[0]\n",
    "print(invitado)"
   ]
  },
  {
   "cell_type": "code",
   "execution_count": 125,
   "id": "a623eb55-49a6-4f52-916c-32f4aabadac7",
   "metadata": {},
   "outputs": [
    {
     "name": "stdout",
     "output_type": "stream",
     "text": [
      "[]\n"
     ]
    }
   ],
   "source": [
    "print(invitado)"
   ]
  },
  {
   "cell_type": "code",
   "execution_count": null,
   "id": "ef4a5561-fd74-437e-aaf1-1f88347a8cb1",
   "metadata": {},
   "outputs": [],
   "source": []
  }
 ],
 "metadata": {
  "kernelspec": {
   "display_name": "Python 3 (ipykernel)",
   "language": "python",
   "name": "python3"
  },
  "language_info": {
   "codemirror_mode": {
    "name": "ipython",
    "version": 3
   },
   "file_extension": ".py",
   "mimetype": "text/x-python",
   "name": "python",
   "nbconvert_exporter": "python",
   "pygments_lexer": "ipython3",
   "version": "3.12.7"
  }
 },
 "nbformat": 4,
 "nbformat_minor": 5
}
