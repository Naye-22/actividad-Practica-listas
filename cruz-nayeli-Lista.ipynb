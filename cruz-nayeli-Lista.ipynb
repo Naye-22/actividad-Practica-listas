{
 "cells": [
  {
   "cell_type": "markdown",
   "id": "17dd63d9-c8f0-4ce6-af46-fa83e72b7e1f",
   "metadata": {},
   "source": [
    "# Listas de nombre"
   ]
  },
  {
   "cell_type": "code",
   "execution_count": 3,
   "id": "8a675039-8dee-4344-bbd0-3647edebc1c7",
   "metadata": {},
   "outputs": [],
   "source": [
    "nombre =['Ana', 'Maria', 'Nohelia', 'Juana', 'Nicole'] "
   ]
  },
  {
   "cell_type": "code",
   "execution_count": 7,
   "id": "b641dedc-fd7f-4dcc-9caf-8deac58159ed",
   "metadata": {},
   "outputs": [
    {
     "name": "stdout",
     "output_type": "stream",
     "text": [
      "Ana\n",
      "Maria\n",
      "Nohelia\n",
      "Juana\n",
      "Nicole\n"
     ]
    }
   ],
   "source": [
    "print(nombre[0])\n",
    "print(nombre[1])\n",
    "print(nombre[2])\n",
    "print(nombre[3])\n",
    "print(nombre[4])"
   ]
  },
  {
   "cell_type": "code",
   "execution_count": 10,
   "id": "492b7738-5b99-4afd-a9dc-df332f173d66",
   "metadata": {},
   "outputs": [
    {
     "name": "stdout",
     "output_type": "stream",
     "text": [
      "Bienvenida Nohelia es un placer atenderle.\n",
      "Bienvenida Maria estamos muy emocionados de tenerle aqui.\n",
      "Bienvenida Ana Nos alegra mucho contar con tu presencia.\n",
      "Bienvenida Juana Tu participación es muy valiosa para nosotros.\n",
      "Bienvenida Nicole Tu llegada nos inspira.\n"
     ]
    }
   ],
   "source": [
    "print(f\"Bienvenida {nombre[2]} es un placer atenderle.\")\n",
    "print(f\"Bienvenida {nombre[1]} estamos muy emocionados de tenerle aqui.\")\n",
    "print(f\"Bienvenida {nombre[0]} Nos alegra mucho contar con tu presencia.\")\n",
    "print(f\"Bienvenida {nombre[3]} Tu participación es muy valiosa para nosotros.\")\n",
    "print(f\"Bienvenida {nombre[4]} Tu llegada nos inspira.\")\n"
   ]
  },
  {
   "cell_type": "markdown",
   "id": "af891fe7-930a-4578-b276-9f7a740d7465",
   "metadata": {},
   "source": [
    "# lista de medios de transporte"
   ]
  },
  {
   "cell_type": "code",
   "execution_count": 11,
   "id": "6f3c23e2-a762-4df8-acec-7864f018cc0f",
   "metadata": {},
   "outputs": [],
   "source": [
    "trans =['Autobus', 'Barco', 'Tren', 'Automovil', 'motocicleta'] "
   ]
  },
  {
   "cell_type": "code",
   "execution_count": 12,
   "id": "c4fabe0d-3ffd-493d-aec5-290f5815bd2b",
   "metadata": {},
   "outputs": [
    {
     "name": "stdout",
     "output_type": "stream",
     "text": [
      "Las motocicleta son los mejores vehiculos.\n",
      "Este medio de transporte Tren nos ayudan a llegar mas rapido.\n",
      "los Barco son mas rapidos.\n",
      "las Autobus son son los mas lentos.\n",
      "los Automovil son los seguros.\n"
     ]
    }
   ],
   "source": [
    "print(f\"Las {trans[4]} son los mejores vehiculos.\")\n",
    "print(f\"Este medio de transporte {trans[2]} nos ayudan a llegar mas rapido.\")\n",
    "print(f\"los {trans[1]} son mas rapidos.\")\n",
    "print(f\"las {trans[0]} son son los mas lentos.\")\n",
    "print(f\"los {trans[3]} son los seguros.\")"
   ]
  },
  {
   "cell_type": "markdown",
   "id": "d8239476-467c-4ebd-9f7d-4f10ff43d704",
   "metadata": {},
   "source": [
    "# listas convinadas"
   ]
  },
  {
   "cell_type": "code",
   "execution_count": 15,
   "id": "2295e6c4-d896-4b9b-a168-36259e89da39",
   "metadata": {},
   "outputs": [
    {
     "name": "stdout",
     "output_type": "stream",
     "text": [
      "Hola Juana es un gusto que nos visites, tu medio de transporte sera: Barco. esperamos que tengas una buena experiencia en unestra compañia.\n",
      "Bienvenida Maria es un gusto que nos visites, tu medio de transporte sera: Tren. Buen viaje, gracias por preferirnos.\n",
      "Es un placer saludarte, Ana es un gusto atenderte, tu medio de transporte sera: Autobus. Que tengas un buen viaje.\n",
      "Buenas tardes Nicole es un gusto que nos visites, tu medio de transporte sera: Automovil. Esperamos que tengas una experianecia aluciante.\n",
      "Bienvenida Nohelia es un gusto que nos visites, tu medio de transporte sera: motocicleta. gracias por preferirnos.\n"
     ]
    }
   ],
   "source": [
    "print(f\"Hola {nombre[3]} es un gusto que nos visites, tu medio de transporte sera: {trans[1]}. esperamos que tengas una buena experiencia en unestra compañia.\")\n",
    "print(f\"Bienvenida {nombre[1]} es un gusto que nos visites, tu medio de transporte sera: {trans[2]}. Buen viaje, gracias por preferirnos.\")\n",
    "print(f\"Es un placer saludarte, {nombre[0]} es un gusto atenderte, tu medio de transporte sera: {trans[0]}. Que tengas un buen viaje.\")\n",
    "print(f\"Buenas tardes {nombre[4]} es un gusto que nos visites, tu medio de transporte sera: {trans[3]}. Esperamos que tengas una experianecia aluciante.\")\n",
    "print(f\"Bienvenida {nombre[2]} es un gusto que nos visites, tu medio de transporte sera: {trans[4]}. gracias por preferirnos.\")\n"
   ]
  },
  {
   "cell_type": "code",
   "execution_count": null,
   "id": "8a5be298-632d-4976-85f5-253c9b5f2e04",
   "metadata": {},
   "outputs": [],
   "source": []
  }
 ],
 "metadata": {
  "kernelspec": {
   "display_name": "Python 3 (ipykernel)",
   "language": "python",
   "name": "python3"
  },
  "language_info": {
   "codemirror_mode": {
    "name": "ipython",
    "version": 3
   },
   "file_extension": ".py",
   "mimetype": "text/x-python",
   "name": "python",
   "nbconvert_exporter": "python",
   "pygments_lexer": "ipython3",
   "version": "3.12.7"
  }
 },
 "nbformat": 4,
 "nbformat_minor": 5
}
